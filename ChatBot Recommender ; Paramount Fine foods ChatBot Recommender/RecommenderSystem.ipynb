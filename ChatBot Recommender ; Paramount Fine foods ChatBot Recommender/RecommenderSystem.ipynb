{
 "cells": [
  {
   "cell_type": "code",
   "execution_count": 2,
   "id": "67a4255c-bafb-4d50-8195-fbe6f6d26c7e",
   "metadata": {},
   "outputs": [],
   "source": [
    "import nltk\n",
    "import numpy as np \n",
    "import pandas as pd\n",
    "from sklearn.metrics.pairwise import cosine_similarity\n",
    "from sklearn.feature_extraction.text import CountVectorizer"
   ]
  },
  {
   "cell_type": "code",
   "execution_count": 4,
   "id": "a8d587f1-f1b2-4de8-ac00-dd02955adffc",
   "metadata": {},
   "outputs": [],
   "source": [
    "df = pd.read_excel('TEST.xlsx',index_col='food')"
   ]
  },
  {
   "cell_type": "code",
   "execution_count": 5,
   "id": "11227b6e-d889-436a-90a6-e759fb4b55c2",
   "metadata": {},
   "outputs": [
    {
     "data": {
      "text/html": [
       "<div>\n",
       "<style scoped>\n",
       "    .dataframe tbody tr th:only-of-type {\n",
       "        vertical-align: middle;\n",
       "    }\n",
       "\n",
       "    .dataframe tbody tr th {\n",
       "        vertical-align: top;\n",
       "    }\n",
       "\n",
       "    .dataframe thead th {\n",
       "        text-align: right;\n",
       "    }\n",
       "</style>\n",
       "<table border=\"1\" class=\"dataframe\">\n",
       "  <thead>\n",
       "    <tr style=\"text-align: right;\">\n",
       "      <th></th>\n",
       "      <th>ingredients</th>\n",
       "      <th>category</th>\n",
       "      <th>type</th>\n",
       "      <th>calories</th>\n",
       "      <th>quantity</th>\n",
       "      <th>price</th>\n",
       "    </tr>\n",
       "    <tr>\n",
       "      <th>food</th>\n",
       "      <th></th>\n",
       "      <th></th>\n",
       "      <th></th>\n",
       "      <th></th>\n",
       "      <th></th>\n",
       "      <th></th>\n",
       "    </tr>\n",
       "  </thead>\n",
       "  <tbody>\n",
       "    <tr>\n",
       "      <th>lentil soup</th>\n",
       "      <td>lentils,onion,potato,carrot,pita,lemon</td>\n",
       "      <td>appetizer</td>\n",
       "      <td>vegeterian</td>\n",
       "      <td>370</td>\n",
       "      <td>300 g</td>\n",
       "      <td>5.99</td>\n",
       "    </tr>\n",
       "    <tr>\n",
       "      <th>falafel</th>\n",
       "      <td>chickpeas,herbs,sesame seeds,tahini</td>\n",
       "      <td>appetizer</td>\n",
       "      <td>vegeterian</td>\n",
       "      <td>420</td>\n",
       "      <td>6 pieces</td>\n",
       "      <td>9.99</td>\n",
       "    </tr>\n",
       "    <tr>\n",
       "      <th>kebbeh</th>\n",
       "      <td>ground beef,minced onion,tahini</td>\n",
       "      <td>appetizer</td>\n",
       "      <td>non-vegeterian</td>\n",
       "      <td>1110</td>\n",
       "      <td>3 pieces</td>\n",
       "      <td>7.99</td>\n",
       "    </tr>\n",
       "    <tr>\n",
       "      <th>rakakat</th>\n",
       "      <td>beef,filled,pastry,cheese</td>\n",
       "      <td>appetizer</td>\n",
       "      <td>non-vegeterian</td>\n",
       "      <td>630</td>\n",
       "      <td>2 pieces</td>\n",
       "      <td>7.99</td>\n",
       "    </tr>\n",
       "    <tr>\n",
       "      <th>spicy potato</th>\n",
       "      <td>cubed potato,batata harra,coriander</td>\n",
       "      <td>appetizer</td>\n",
       "      <td>vegeterian</td>\n",
       "      <td>860</td>\n",
       "      <td>350 g</td>\n",
       "      <td>6.99</td>\n",
       "    </tr>\n",
       "  </tbody>\n",
       "</table>\n",
       "</div>"
      ],
      "text/plain": [
       "                                         ingredients   category  \\\n",
       "food                                                              \n",
       "lentil soup   lentils,onion,potato,carrot,pita,lemon  appetizer   \n",
       "falafel          chickpeas,herbs,sesame seeds,tahini  appetizer   \n",
       "kebbeh               ground beef,minced onion,tahini  appetizer   \n",
       "rakakat                    beef,filled,pastry,cheese  appetizer   \n",
       "spicy potato     cubed potato,batata harra,coriander  appetizer   \n",
       "\n",
       "                        type  calories   quantity  price  \n",
       "food                                                      \n",
       "lentil soup       vegeterian       370      300 g   5.99  \n",
       "falafel           vegeterian       420  6 pieces    9.99  \n",
       "kebbeh        non-vegeterian      1110   3 pieces   7.99  \n",
       "rakakat       non-vegeterian       630   2 pieces   7.99  \n",
       "spicy potato      vegeterian       860      350 g   6.99  "
      ]
     },
     "execution_count": 5,
     "metadata": {},
     "output_type": "execute_result"
    }
   ],
   "source": [
    "df.head()"
   ]
  },
  {
   "cell_type": "code",
   "execution_count": null,
   "id": "3e96044a-b5a7-4e49-a5ae-c87caae0543b",
   "metadata": {},
   "outputs": [],
   "source": [
    "# Setting the index value\n",
    "df_idx = df.index\n",
    "df"
   ]
  }
 ],
 "metadata": {
  "kernelspec": {
   "display_name": "Python 3",
   "language": "python",
   "name": "python3"
  },
  "language_info": {
   "codemirror_mode": {
    "name": "ipython",
    "version": 3
   },
   "file_extension": ".py",
   "mimetype": "text/x-python",
   "name": "python",
   "nbconvert_exporter": "python",
   "pygments_lexer": "ipython3",
   "version": "3.9.4"
  }
 },
 "nbformat": 4,
 "nbformat_minor": 5
}
